{
 "cells": [
  {
   "cell_type": "markdown",
   "id": "81b7a530-6583-43a0-8911-299ad82c1f10",
   "metadata": {},
   "source": [
    "# **2.3 Lab: Introduction to Python**"
   ]
  },
  {
   "cell_type": "markdown",
   "id": "38b3c288-892d-4d6c-9c19-910c1d7eab7d",
   "metadata": {
    "jp-MarkdownHeadingCollapsed": true,
    "tags": []
   },
   "source": [
    "## **Basic Commands**\n"
   ]
  },
  {
   "cell_type": "code",
   "execution_count": 9,
   "id": "af98fb60-b4cb-42d7-9485-ecd36613e1ca",
   "metadata": {
    "tags": []
   },
   "outputs": [
    {
     "name": "stdout",
     "output_type": "stream",
     "text": [
      "fit a model with 11 variables \n",
      "\n",
      "------ Print function info ------\n",
      "\n"
     ]
    },
    {
     "data": {
      "text/plain": [
       "\u001b[1;31mSignature:\u001b[0m \u001b[0mprint\u001b[0m\u001b[1;33m(\u001b[0m\u001b[1;33m*\u001b[0m\u001b[0margs\u001b[0m\u001b[1;33m,\u001b[0m \u001b[0msep\u001b[0m\u001b[1;33m=\u001b[0m\u001b[1;34m' '\u001b[0m\u001b[1;33m,\u001b[0m \u001b[0mend\u001b[0m\u001b[1;33m=\u001b[0m\u001b[1;34m'\\n'\u001b[0m\u001b[1;33m,\u001b[0m \u001b[0mfile\u001b[0m\u001b[1;33m=\u001b[0m\u001b[1;32mNone\u001b[0m\u001b[1;33m,\u001b[0m \u001b[0mflush\u001b[0m\u001b[1;33m=\u001b[0m\u001b[1;32mFalse\u001b[0m\u001b[1;33m)\u001b[0m\u001b[1;33m\u001b[0m\u001b[1;33m\u001b[0m\u001b[0m\n",
       "\u001b[1;31mDocstring:\u001b[0m\n",
       "Prints the values to a stream, or to sys.stdout by default.\n",
       "\n",
       "sep\n",
       "  string inserted between values, default a space.\n",
       "end\n",
       "  string appended after the last value, default a newline.\n",
       "file\n",
       "  a file-like object (stream); defaults to the current sys.stdout.\n",
       "flush\n",
       "  whether to forcibly flush the stream.\n",
       "\u001b[1;31mType:\u001b[0m      builtin_function_or_method"
      ]
     },
     "metadata": {},
     "output_type": "display_data"
    }
   ],
   "source": [
    "# Print function\n",
    "print('fit a model with', 5+6, 'variables', '\\n')\n",
    "print('------ Print function info ------\\n')\n",
    "print?"
   ]
  },
  {
   "cell_type": "code",
   "execution_count": 13,
   "id": "6683babb-fc0d-4cfc-b961-a0830e236e67",
   "metadata": {
    "tags": []
   },
   "outputs": [
    {
     "data": {
      "text/plain": [
       "[3, 4, 5, 4, 9, 7]"
      ]
     },
     "execution_count": 13,
     "metadata": {},
     "output_type": "execute_result"
    }
   ],
   "source": [
    "# Creating lists\n",
    "x = [3, 4, 5]\n",
    "y = [4, 9, 7]\n",
    "\n",
    "# Concatenating lists\n",
    "x+y"
   ]
  },
  {
   "cell_type": "markdown",
   "id": "514ec16b-5a15-40c0-9a3f-81702b51147a",
   "metadata": {
    "tags": []
   },
   "source": [
    "## **Introduction to Numerical Python**"
   ]
  },
  {
   "cell_type": "code",
   "execution_count": 15,
   "id": "fdf29895-6bab-4160-b7ae-74002dfe298e",
   "metadata": {
    "tags": []
   },
   "outputs": [
    {
     "data": {
      "text/plain": [
       "array([ 7, 13, 12])"
      ]
     },
     "execution_count": 15,
     "metadata": {},
     "output_type": "execute_result"
    }
   ],
   "source": [
    "import numpy as np\n",
    "\n",
    "# Arrays\n",
    "x = np.array([3, 4, 5])\n",
    "y = np.array([4, 9, 7])\n",
    "x+y"
   ]
  },
  {
   "cell_type": "code",
   "execution_count": 48,
   "id": "62f95bbc-8b5b-4357-aed9-fb66e1a56547",
   "metadata": {
    "tags": []
   },
   "outputs": [
    {
     "name": "stdout",
     "output_type": "stream",
     "text": [
      "[[1 2]\n",
      " [3 4]]\n",
      "Matrix x dimension: 2\n",
      "Matrix x type: int32\n",
      "Matrix x shape: (2, 2)\n",
      "\n"
     ]
    }
   ],
   "source": [
    "# Matrices\n",
    "x = np.array([[1,2], [3,4]])\n",
    "print(x)\n",
    "print('Matrix x dimension: ' + str(x.ndim))\n",
    "print('Matrix x type: ' + str(x.dtype))\n",
    "print('Matrix x shape: ' + str(x.shape) + '\\n')\n",
    "\n",
    "#np.array?"
   ]
  },
  {
   "cell_type": "code",
   "execution_count": 45,
   "id": "ebbec499-d259-4d50-9daa-86ae494e4cef",
   "metadata": {
    "tags": []
   },
   "outputs": [
    {
     "name": "stdout",
     "output_type": "stream",
     "text": [
      "Sum 1: 10\n",
      "Sum 2: 10\n"
     ]
    }
   ],
   "source": [
    "# Methods: Sum\n",
    "x = np.array([1, 2, 3, 4])\n",
    "print('Sum 1: ' + str(x.sum()))\n",
    "print('Sum 2: ' + str(np.sum(x)))"
   ]
  },
  {
   "cell_type": "code",
   "execution_count": 51,
   "id": "0bf9502c-9432-4fb6-b13a-73cf2a0db982",
   "metadata": {
    "tags": []
   },
   "outputs": [
    {
     "name": "stdout",
     "output_type": "stream",
     "text": [
      "beginning x:\n",
      " [1 2 3 4 5 6]\n",
      "x_reshaped:\n",
      " [[1 2 3]\n",
      " [4 5 6]]\n",
      "x_reshape after we modify its top left element:\n",
      " [[5 2 3]\n",
      " [4 5 6]]\n",
      "x after we modify top left element of x_reshape:\n",
      " [5 2 3 4 5 6]\n"
     ]
    }
   ],
   "source": [
    "# Methods: Reshape\n",
    "x = np.array([1, 2, 3, 4, 5, 6])\n",
    "print('beginning x:\\n', x)\n",
    "x_reshape = x.reshape((2, 3))\n",
    "print('x_reshaped:\\n', x_reshape)\n",
    "x_reshape[0,0] = 5\n",
    "print('x_reshape after we modify its top left element:\\n', x_reshape)\n",
    "print('x after we modify top left element of x_reshape:\\n', x)"
   ]
  },
  {
   "cell_type": "code",
   "execution_count": 53,
   "id": "6356a48f-d1d5-4260-b9ff-37d9d2a4ef73",
   "metadata": {
    "tags": []
   },
   "outputs": [
    {
     "ename": "TypeError",
     "evalue": "'tuple' object does not support item assignment",
     "output_type": "error",
     "traceback": [
      "\u001b[1;31m---------------------------------------------------------------------------\u001b[0m",
      "\u001b[1;31mTypeError\u001b[0m                                 Traceback (most recent call last)",
      "Cell \u001b[1;32mIn[53], line 3\u001b[0m\n\u001b[0;32m      1\u001b[0m \u001b[38;5;66;03m# Tuples\u001b[39;00m\n\u001b[0;32m      2\u001b[0m my_tuple \u001b[38;5;241m=\u001b[39m (\u001b[38;5;241m3\u001b[39m,\u001b[38;5;241m4\u001b[39m,\u001b[38;5;241m5\u001b[39m)\n\u001b[1;32m----> 3\u001b[0m my_tuple[\u001b[38;5;241m0\u001b[39m] \u001b[38;5;241m=\u001b[39m \u001b[38;5;241m2\u001b[39m\n\u001b[0;32m      5\u001b[0m x_reshape\u001b[38;5;241m.\u001b[39mshape , x_reshape\u001b[38;5;241m.\u001b[39mndim , x_reshape\u001b[38;5;241m.\u001b[39mT\n",
      "\u001b[1;31mTypeError\u001b[0m: 'tuple' object does not support item assignment"
     ]
    }
   ],
   "source": [
    "# Tuples\n",
    "my_tuple = (3,4,5)\n",
    "my_tuple[0] = 2"
   ]
  },
  {
   "cell_type": "code",
   "execution_count": 54,
   "id": "61587090-5f5d-420a-a731-5563ad8edd29",
   "metadata": {
    "tags": []
   },
   "outputs": [
    {
     "data": {
      "text/plain": [
       "((2, 3),\n",
       " 2,\n",
       " array([[5, 4],\n",
       "        [2, 5],\n",
       "        [3, 6]]))"
      ]
     },
     "execution_count": 54,
     "metadata": {},
     "output_type": "execute_result"
    }
   ],
   "source": [
    "# Array attributes\n",
    "x_reshape.shape , x_reshape.ndim , x_reshape.T"
   ]
  },
  {
   "cell_type": "code",
   "execution_count": 63,
   "id": "f03f91c9-4ef9-4b14-92fb-081e66aec03a",
   "metadata": {
    "tags": []
   },
   "outputs": [
    {
     "name": "stdout",
     "output_type": "stream",
     "text": [
      "Square root of x:  [2.23606798 1.41421356 1.73205081 2.         2.23606798 2.44948974]\n",
      "Square of x:  [25  4  9 16 25 36]\n",
      "1/2 power of x:  [2.23606798 1.41421356 1.73205081 2.         2.23606798 2.44948974]\n"
     ]
    }
   ],
   "source": [
    "# Arrays and functions\n",
    "print('Square root of x: ', np.sqrt(x))\n",
    "print('Square of x: ', x**2)\n",
    "print('1/2 power of x: ', x**0.5)"
   ]
  },
  {
   "cell_type": "code",
   "execution_count": 82,
   "id": "c13b5a03-d4ae-480e-90f6-d08d2cabba31",
   "metadata": {
    "tags": []
   },
   "outputs": [
    {
     "name": "stdout",
     "output_type": "stream",
     "text": [
      "Correlation matrix of x and y [[1.         0.76793207]\n",
      " [0.76793207 1.        ]]\n"
     ]
    }
   ],
   "source": [
    "# Random data\n",
    "#np.random.normal?\n",
    "x = np.random.normal(size=50)\n",
    "y = x + np.random.normal(loc=50, scale=1, size=50)\n",
    "print('Correlation matrix of x and y', np.corrcoef(x,y))"
   ]
  },
  {
   "cell_type": "code",
   "execution_count": 87,
   "id": "a1c6b646-b431-42a3-bc5f-a892de21f450",
   "metadata": {
    "tags": []
   },
   "outputs": [
    {
     "name": "stdout",
     "output_type": "stream",
     "text": [
      "[ 4.09482632 -1.07485605]\n",
      "[ 4.09482632 -1.07485605]\n"
     ]
    }
   ],
   "source": [
    "# Seed generation\n",
    "print(rng.normal(scale=5, size=2))\n",
    "rng2 = np.random.default_rng (1303)\n",
    "print(rng2.normal(scale=5, size=2))"
   ]
  },
  {
   "cell_type": "code",
   "execution_count": 96,
   "id": "05128899-d255-4755-afe2-a750a1978e1c",
   "metadata": {
    "tags": []
   },
   "outputs": [
    {
     "name": "stdout",
     "output_type": "stream",
     "text": [
      "-0.1126795190952861 -0.1126795190952861\n",
      "2.7243406406465125 2.7243406406465125 2.7243406406465125\n",
      "1.6505576756498128 1.6505576756498128\n",
      "\n",
      "[[ 0.22578661 -0.35263079 -0.28128742]\n",
      " [-0.66804635 -1.05515055 -0.39080098]\n",
      " [ 0.48194539 -0.23855361  0.9577587 ]\n",
      " [-0.19980213  0.02425957  1.54582085]\n",
      " [ 0.54510552 -0.50522874 -0.18283897]\n",
      " [ 0.54052513  1.93508803 -0.26962033]\n",
      " [-0.24355868  1.0023136  -0.88645994]\n",
      " [-0.29172023  0.88253897  0.58035002]\n",
      " [ 0.0915167   0.67010435 -2.82816231]\n",
      " [ 1.02130682 -0.95964476 -1.66861984]]\n",
      "Mean among rows:  [ 0.15030588  0.14030961 -0.34238602]\n"
     ]
    }
   ],
   "source": [
    "# Mean, variance and standard deviation\n",
    "rng = np.random.default_rng(3)\n",
    "y = rng.standard_normal(10)\n",
    "print(np.mean(y), y.mean())\n",
    "print(np.var(y), y.var(), np.mean((y - y.mean())**2))\n",
    "print(np.sqrt(np.var(y)), np.std(y))\n",
    "\n",
    "X = rng.standard_normal((10, 3))\n",
    "print('\\n'+str(X))\n",
    "print('Mean among rows: ', str(X.mean(axis=0)))"
   ]
  },
  {
   "cell_type": "code",
   "execution_count": null,
   "id": "0b64434d-dd82-4c86-861f-e2708c2f579c",
   "metadata": {},
   "outputs": [],
   "source": []
  }
 ],
 "metadata": {
  "kernelspec": {
   "display_name": "Python 3 (ipykernel)",
   "language": "python",
   "name": "python3"
  },
  "language_info": {
   "codemirror_mode": {
    "name": "ipython",
    "version": 3
   },
   "file_extension": ".py",
   "mimetype": "text/x-python",
   "name": "python",
   "nbconvert_exporter": "python",
   "pygments_lexer": "ipython3",
   "version": "3.11.5"
  }
 },
 "nbformat": 4,
 "nbformat_minor": 5
}
